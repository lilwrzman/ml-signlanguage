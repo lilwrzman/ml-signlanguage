{
 "cells": [
  {
   "cell_type": "code",
   "execution_count": null,
   "id": "f907f916",
   "metadata": {},
   "outputs": [],
   "source": [
    "# Check torch CUDA\n",
    "\n",
    "import torch\n",
    "\n",
    "print(torch.cuda.is_available())\n",
    "print(torch.cuda.get_device_name(0))"
   ]
  },
  {
   "cell_type": "code",
   "execution_count": null,
   "id": "d80ec1d0",
   "metadata": {},
   "outputs": [],
   "source": [
    "# Download and check YOLO\n",
    "\n",
    "import os\n",
    "import shutil\n",
    "from pathlib import Path\n",
    "from ultralytics import YOLO\n",
    "\n",
    "target_path = Path(\"../models/checkpoints/yolo11x.pt\")\n",
    "if target_path.exists():\n",
    "    print(\"Model already exists at:\", target_path)\n",
    "    model = YOLO(str(target_path))\n",
    "else:\n",
    "    model = YOLO(\"yolo11x.pt\")\n",
    "    default_path = Path(model.ckpt_path)\n",
    "    target_path.parent.mkdir(parents=True, exist_ok=True)\n",
    "    shutil.move(default_path, target_path)\n",
    "    print(\"Model available on:\", target_path)\n",
    "\n",
    "model.predict(source='https://ultralytics.com/images/bus.jpg', show=True)"
   ]
  },
  {
   "cell_type": "code",
   "execution_count": null,
   "id": "3358b5fb",
   "metadata": {},
   "outputs": [],
   "source": [
    "# OpenCV and Camera Feed test\n",
    "\n",
    "import cv2\n",
    "\n",
    "win_name = \"Camera Test\"\n",
    "cv2.namedWindow(winname=win_name, flags=cv2.WINDOW_NORMAL)\n",
    "\n",
    "source = cv2.VideoCapture(1)\n",
    "alive = True\n",
    "while alive:\n",
    "    has_frame, frame = source.read()\n",
    "    if not has_frame:\n",
    "        break\n",
    "    \n",
    "    cv2.imshow(winname=win_name, mat=frame)\n",
    "    \n",
    "    if cv2.waitKey(1) == 27:\n",
    "        alive = False\n",
    "        \n",
    "source.release()\n",
    "cv2.destroyWindow(winname=win_name)"
   ]
  }
 ],
 "metadata": {
  "kernelspec": {
   "display_name": "signlanguage",
   "language": "python",
   "name": "python3"
  },
  "language_info": {
   "codemirror_mode": {
    "name": "ipython",
    "version": 3
   },
   "file_extension": ".py",
   "mimetype": "text/x-python",
   "name": "python",
   "nbconvert_exporter": "python",
   "pygments_lexer": "ipython3",
   "version": "3.10.18"
  }
 },
 "nbformat": 4,
 "nbformat_minor": 5
}
