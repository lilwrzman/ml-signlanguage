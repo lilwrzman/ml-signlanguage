{
 "cells": [
  {
   "cell_type": "code",
   "execution_count": null,
   "id": "f907f916",
   "metadata": {},
   "outputs": [],
   "source": [
    "# Check torch CUDA\n",
    "\n",
    "import torch\n",
    "\n",
    "print(torch.cuda.is_available())\n",
    "print(torch.cuda.get_device_name(0))"
   ]
  },
  {
   "cell_type": "code",
   "execution_count": 1,
   "id": "d80ec1d0",
   "metadata": {},
   "outputs": [
    {
     "name": "stdout",
     "output_type": "stream",
     "text": [
      "\u001b[KDownloading https://github.com/ultralytics/assets/releases/download/v8.3.0/yolo11x.pt to 'yolo11x.pt': 100% ━━━━━━━━━━━━ 109.3MB 3.9MB/s 28.1s 28.1s<0.0ss\n",
      "Model available on: ..\\models\\checkpoints\\yolo11x.pt\n",
      "\n",
      "\u001b[KDownloading https://ultralytics.com/images/bus.jpg to 'bus.jpg': 100% ━━━━━━━━━━━━ 134.2KB 2.1MB/s 0.1s\n",
      "image 1/1 d:\\Kerja\\IT BA - PHR\\ml-signlanguage\\notebooks\\bus.jpg: 640x480 4 persons, 1 bus, 75.6ms\n",
      "Speed: 1.9ms preprocess, 75.6ms inference, 75.3ms postprocess per image at shape (1, 3, 640, 480)\n"
     ]
    },
    {
     "data": {
      "text/plain": [
       "[ultralytics.engine.results.Results object with attributes:\n",
       " \n",
       " boxes: ultralytics.engine.results.Boxes object\n",
       " keypoints: None\n",
       " masks: None\n",
       " names: {0: 'person', 1: 'bicycle', 2: 'car', 3: 'motorcycle', 4: 'airplane', 5: 'bus', 6: 'train', 7: 'truck', 8: 'boat', 9: 'traffic light', 10: 'fire hydrant', 11: 'stop sign', 12: 'parking meter', 13: 'bench', 14: 'bird', 15: 'cat', 16: 'dog', 17: 'horse', 18: 'sheep', 19: 'cow', 20: 'elephant', 21: 'bear', 22: 'zebra', 23: 'giraffe', 24: 'backpack', 25: 'umbrella', 26: 'handbag', 27: 'tie', 28: 'suitcase', 29: 'frisbee', 30: 'skis', 31: 'snowboard', 32: 'sports ball', 33: 'kite', 34: 'baseball bat', 35: 'baseball glove', 36: 'skateboard', 37: 'surfboard', 38: 'tennis racket', 39: 'bottle', 40: 'wine glass', 41: 'cup', 42: 'fork', 43: 'knife', 44: 'spoon', 45: 'bowl', 46: 'banana', 47: 'apple', 48: 'sandwich', 49: 'orange', 50: 'broccoli', 51: 'carrot', 52: 'hot dog', 53: 'pizza', 54: 'donut', 55: 'cake', 56: 'chair', 57: 'couch', 58: 'potted plant', 59: 'bed', 60: 'dining table', 61: 'toilet', 62: 'tv', 63: 'laptop', 64: 'mouse', 65: 'remote', 66: 'keyboard', 67: 'cell phone', 68: 'microwave', 69: 'oven', 70: 'toaster', 71: 'sink', 72: 'refrigerator', 73: 'book', 74: 'clock', 75: 'vase', 76: 'scissors', 77: 'teddy bear', 78: 'hair drier', 79: 'toothbrush'}\n",
       " obb: None\n",
       " orig_img: array([[[119, 146, 172],\n",
       "         [121, 148, 174],\n",
       "         [122, 152, 177],\n",
       "         ...,\n",
       "         [161, 171, 188],\n",
       "         [160, 170, 187],\n",
       "         [160, 170, 187]],\n",
       " \n",
       "        [[120, 147, 173],\n",
       "         [122, 149, 175],\n",
       "         [123, 153, 178],\n",
       "         ...,\n",
       "         [161, 171, 188],\n",
       "         [160, 170, 187],\n",
       "         [160, 170, 187]],\n",
       " \n",
       "        [[123, 150, 176],\n",
       "         [124, 151, 177],\n",
       "         [125, 155, 180],\n",
       "         ...,\n",
       "         [161, 171, 188],\n",
       "         [160, 170, 187],\n",
       "         [160, 170, 187]],\n",
       " \n",
       "        ...,\n",
       " \n",
       "        [[183, 182, 186],\n",
       "         [179, 178, 182],\n",
       "         [180, 179, 183],\n",
       "         ...,\n",
       "         [121, 111, 117],\n",
       "         [113, 103, 109],\n",
       "         [115, 105, 111]],\n",
       " \n",
       "        [[165, 164, 168],\n",
       "         [173, 172, 176],\n",
       "         [187, 186, 190],\n",
       "         ...,\n",
       "         [102,  92,  98],\n",
       "         [101,  91,  97],\n",
       "         [103,  93,  99]],\n",
       " \n",
       "        [[123, 122, 126],\n",
       "         [145, 144, 148],\n",
       "         [176, 175, 179],\n",
       "         ...,\n",
       "         [ 95,  85,  91],\n",
       "         [ 96,  86,  92],\n",
       "         [ 98,  88,  94]]], shape=(1080, 810, 3), dtype=uint8)\n",
       " orig_shape: (1080, 810)\n",
       " path: 'd:\\\\Kerja\\\\IT BA - PHR\\\\ml-signlanguage\\\\notebooks\\\\bus.jpg'\n",
       " probs: None\n",
       " save_dir: 'D:\\\\Kerja\\\\IT BA - PHR\\\\ml-signlanguage\\\\outputs\\\\detect\\\\predict'\n",
       " speed: {'preprocess': 1.8989999989571515, 'inference': 75.56280000062543, 'postprocess': 75.31440000093426}]"
      ]
     },
     "execution_count": 1,
     "metadata": {},
     "output_type": "execute_result"
    }
   ],
   "source": [
    "# Download and check YOLO\n",
    "\n",
    "import os\n",
    "import shutil\n",
    "from pathlib import Path\n",
    "from ultralytics import YOLO\n",
    "\n",
    "target_path = Path(\"../models/checkpoints/yolo11x.pt\")\n",
    "if target_path.exists():\n",
    "    print(\"Model already exists at:\", target_path)\n",
    "    model = YOLO(str(target_path))\n",
    "else:\n",
    "    model = YOLO(\"yolo11x.pt\")\n",
    "    default_path = Path(model.ckpt_path)\n",
    "    target_path.parent.mkdir(parents=True, exist_ok=True)\n",
    "    shutil.move(default_path, target_path)\n",
    "    print(\"Model available on:\", target_path)\n",
    "\n",
    "model.predict(source='https://ultralytics.com/images/bus.jpg', show=True)"
   ]
  },
  {
   "cell_type": "code",
   "execution_count": null,
   "id": "3358b5fb",
   "metadata": {},
   "outputs": [],
   "source": [
    "# OpenCV and Camera Feed test\n",
    "\n",
    "import cv2\n",
    "\n",
    "win_name = \"Camera Test\"\n",
    "cv2.namedWindow(winname=win_name, flags=cv2.WINDOW_NORMAL)\n",
    "\n",
    "source = cv2.VideoCapture(1)\n",
    "alive = True\n",
    "while alive:\n",
    "    has_frame, frame = source.read()\n",
    "    if not has_frame:\n",
    "        break\n",
    "    \n",
    "    cv2.imshow(winname=win_name, mat=frame)\n",
    "    \n",
    "    if cv2.waitKey(1) == 27:\n",
    "        alive = False\n",
    "        \n",
    "source.release()\n",
    "cv2.destroyWindow(winname=win_name)"
   ]
  }
 ],
 "metadata": {
  "kernelspec": {
   "display_name": "signlanguage",
   "language": "python",
   "name": "python3"
  },
  "language_info": {
   "codemirror_mode": {
    "name": "ipython",
    "version": 3
   },
   "file_extension": ".py",
   "mimetype": "text/x-python",
   "name": "python",
   "nbconvert_exporter": "python",
   "pygments_lexer": "ipython3",
   "version": "3.10.18"
  }
 },
 "nbformat": 4,
 "nbformat_minor": 5
}
